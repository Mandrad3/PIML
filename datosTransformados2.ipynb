{
 "cells": [
  {
   "cell_type": "code",
   "execution_count": 4,
   "metadata": {},
   "outputs": [
    {
     "name": "stderr",
     "output_type": "stream",
     "text": [
      "C:\\Users\\Vero\\AppData\\Local\\Temp\\ipykernel_13820\\4044590860.py:5: DtypeWarning: Columns (10) have mixed types. Specify dtype option on import or set low_memory=False.\n",
      "  df1 = pd.read_csv('Dataset\\movies_dataset.csv')\n"
     ]
    }
   ],
   "source": [
    "import pandas as pd\n",
    "import ast\n",
    "import json\n",
    "import numpy as np\n",
    "df1 = pd.read_csv('Dataset\\movies_dataset.csv')\n",
    "df2 = pd.read_csv ('Dataset\\credits.csv')"
   ]
  },
  {
   "cell_type": "code",
   "execution_count": 5,
   "metadata": {},
   "outputs": [],
   "source": [
    "def corregir_formato_json(json_value):\n",
    "    if json_value is None:\n",
    "        return None\n",
    "    if isinstance(json_value, float):\n",
    "        json_value = str(json_value)\n",
    "    try:\n",
    "        return json.loads(json_value)\n",
    "    except (json.JSONDecodeError, TypeError):\n",
    "        return None\n"
   ]
  },
  {
   "cell_type": "code",
   "execution_count": 6,
   "metadata": {},
   "outputs": [],
   "source": [
    "def desanidar_belongs_to_collection(df1):\n",
    "    df1['belongs_to_collection'] = df1['belongs_to_collection'].apply(corregir_formato_json)\n",
    "    df1 = pd.concat([df1.drop(['belongs_to_collection'], axis=1), df1['belongs_to_collection'].apply(pd.Series)], axis=1)\n",
    "    return df1"
   ]
  },
  {
   "cell_type": "code",
   "execution_count": 7,
   "metadata": {},
   "outputs": [],
   "source": [
    "df1['belongs_to_collection'] = df1['belongs_to_collection'].apply(lambda x: ast.literal_eval(x) if pd.notnull(x) else None)"
   ]
  },
  {
   "cell_type": "code",
   "execution_count": 8,
   "metadata": {},
   "outputs": [],
   "source": [
    "df1[['id_collection', 'name_collection', 'poster_path_collection', 'backdrop_path_collection']] = df1['belongs_to_collection'].apply(pd.Series)[['id', 'name', 'poster_path', 'backdrop_path']]"
   ]
  },
  {
   "cell_type": "code",
   "execution_count": 9,
   "metadata": {},
   "outputs": [],
   "source": [
    "df1['production_companies'] = df1['production_companies'].apply(lambda x: ast.literal_eval(x) if pd.notnull(x) else None)"
   ]
  },
  {
   "cell_type": "code",
   "execution_count": 10,
   "metadata": {},
   "outputs": [],
   "source": [
    "df1['production_companies'] = df1['production_companies'].apply(lambda x: ', '.join([d['name'] for d in x]) if x else None)"
   ]
  },
  {
   "cell_type": "code",
   "execution_count": 11,
   "metadata": {},
   "outputs": [
    {
     "data": {
      "text/plain": [
       "0                                  Pixar Animation Studios\n",
       "1        TriStar Pictures, Teitler Film, Interscope Com...\n",
       "2                             Warner Bros., Lancaster Gate\n",
       "3                   Twentieth Century Fox Film Corporation\n",
       "4               Sandollar Productions, Touchstone Pictures\n",
       "                               ...                        \n",
       "45461                                                 None\n",
       "45462                                          Sine Olivia\n",
       "45463                              American World Pictures\n",
       "45464                                            Yermoliev\n",
       "45465                                                 None\n",
       "Name: production_companies, Length: 45466, dtype: object"
      ]
     },
     "execution_count": 11,
     "metadata": {},
     "output_type": "execute_result"
    }
   ],
   "source": [
    "df1.production_companies"
   ]
  },
  {
   "cell_type": "code",
   "execution_count": 12,
   "metadata": {},
   "outputs": [],
   "source": [
    "df1['genres'] = df1['genres'].apply(ast.literal_eval)\n"
   ]
  },
  {
   "cell_type": "code",
   "execution_count": 13,
   "metadata": {},
   "outputs": [],
   "source": [
    "df1['genres'] = df1['genres'].apply(lambda x: ', '.join([d['name'] for d in x]))"
   ]
  },
  {
   "cell_type": "code",
   "execution_count": 14,
   "metadata": {},
   "outputs": [],
   "source": [
    "df1['production_countries'] = df1['production_countries'].apply(lambda x: ast.literal_eval(x) if isinstance(x, str) else x)"
   ]
  },
  {
   "cell_type": "code",
   "execution_count": 15,
   "metadata": {},
   "outputs": [],
   "source": [
    "df1['production_countries'] = df1['production_countries'].apply(lambda x: ', '.join([d['iso_3166_1'] for d in x]) if isinstance(x, list) else None)"
   ]
  },
  {
   "cell_type": "code",
   "execution_count": 16,
   "metadata": {},
   "outputs": [],
   "source": [
    "df2['cast'] = df2['cast'].apply(lambda x: ast.literal_eval(x) if pd.notnull(x) else [])"
   ]
  },
  {
   "cell_type": "code",
   "execution_count": 17,
   "metadata": {},
   "outputs": [],
   "source": [
    "df2['actors'] = df2['cast'].apply(lambda x: ', '.join([d['name'] for d in x[:3]]) if x else None)\n"
   ]
  },
  {
   "cell_type": "code",
   "execution_count": 18,
   "metadata": {},
   "outputs": [],
   "source": [
    "df2['crew'] = df2['crew'].apply(lambda x: ast.literal_eval(x) if pd.notnull(x) else None)"
   ]
  },
  {
   "cell_type": "code",
   "execution_count": 19,
   "metadata": {},
   "outputs": [],
   "source": [
    "df2['director'] = df2['crew'].apply(lambda x: ', '.join([d['name'] for d in x if d.get('job') == 'Director']) if isinstance(x, list) else '')"
   ]
  },
  {
   "cell_type": "code",
   "execution_count": 20,
   "metadata": {},
   "outputs": [
    {
     "data": {
      "text/plain": [
       "0           John Lasseter\n",
       "1            Joe Johnston\n",
       "2           Howard Deutch\n",
       "3         Forest Whitaker\n",
       "4           Charles Shyer\n",
       "               ...       \n",
       "45471    Hamid Nematollah\n",
       "45472            Lav Diaz\n",
       "45473      Mark L. Lester\n",
       "45474    Yakov Protazanov\n",
       "45475       Daisy Asquith\n",
       "Name: director, Length: 45476, dtype: object"
      ]
     },
     "execution_count": 20,
     "metadata": {},
     "output_type": "execute_result"
    }
   ],
   "source": [
    "df2['director']"
   ]
  },
  {
   "cell_type": "code",
   "execution_count": 21,
   "metadata": {},
   "outputs": [],
   "source": [
    "df1['spoken_languages'] = df1['spoken_languages'].apply(lambda x: ast.literal_eval(x) if isinstance(x, str) else x)"
   ]
  },
  {
   "cell_type": "code",
   "execution_count": 22,
   "metadata": {},
   "outputs": [],
   "source": [
    "df1['spoken_languages'] = df1['spoken_languages'].apply(lambda x: ', '.join([d['iso_639_1'] for d in x])if isinstance(x, list) else None)"
   ]
  },
  {
   "cell_type": "code",
   "execution_count": 23,
   "metadata": {},
   "outputs": [],
   "source": [
    "columns_to_drop = ['belongs_to_collection','video', 'imdb_id', 'adult', 'original_title', 'poster_path', 'homepage']\n",
    "df1 = df1.drop(columns=columns_to_drop)"
   ]
  },
  {
   "attachments": {},
   "cell_type": "markdown",
   "metadata": {},
   "source": [
    "Aqui llenamos los campos nulos de las columnas Revenue y Budget con 0"
   ]
  },
  {
   "cell_type": "code",
   "execution_count": 24,
   "metadata": {},
   "outputs": [],
   "source": [
    "df1['revenue'] = df1['revenue'].fillna(0)\n",
    "df1['budget'] = df1['budget'].fillna(0)"
   ]
  },
  {
   "attachments": {},
   "cell_type": "markdown",
   "metadata": {},
   "source": [
    "Convierto las columnas Revenue y Budget en tipo Float"
   ]
  },
  {
   "cell_type": "code",
   "execution_count": 25,
   "metadata": {},
   "outputs": [],
   "source": [
    "df1['revenue'] = pd.to_numeric(df1['revenue'], errors='coerce')\n",
    "df1['budget'] = pd.to_numeric(df1['budget'], errors='coerce')\n"
   ]
  },
  {
   "cell_type": "code",
   "execution_count": 26,
   "metadata": {},
   "outputs": [],
   "source": [
    "invalid_rows = df1[df1['revenue'].isna() | df1['budget'].isna()]"
   ]
  },
  {
   "cell_type": "code",
   "execution_count": 27,
   "metadata": {},
   "outputs": [
    {
     "name": "stdout",
     "output_type": "stream",
     "text": [
      "       budget                                             genres          id  \\\n",
      "19730     NaN  Carousel Productions, Vision View Entertainmen...  1997-08-20   \n",
      "29503     NaN  Aniplex, GoHands, BROSTA TV, Mardock Scramble ...  2012-09-29   \n",
      "35587     NaN  Odyssey Media, Pulser Productions, Rogue State...  2014-01-01   \n",
      "\n",
      "      original_language  overview             popularity production_companies  \\\n",
      "19730             104.0  Released                    NaN                 None   \n",
      "29503              68.0  Released                    NaN                 None   \n",
      "35587              82.0  Released  Beware Of Frost Bites                 None   \n",
      "\n",
      "      production_countries release_date  revenue  ...  spoken_languages  \\\n",
      "19730                 None            1      0.0  ...              None   \n",
      "29503                 None           12      0.0  ...              None   \n",
      "35587                 None           22      0.0  ...              None   \n",
      "\n",
      "      status tagline title vote_average  vote_count  id_collection  \\\n",
      "19730    NaN     NaN   NaN          NaN         NaN            NaN   \n",
      "29503    NaN     NaN   NaN          NaN         NaN            NaN   \n",
      "35587    NaN     NaN   NaN          NaN         NaN            NaN   \n",
      "\n",
      "       name_collection poster_path_collection backdrop_path_collection  \n",
      "19730              NaN                    NaN                      NaN  \n",
      "29503              NaN                    NaN                      NaN  \n",
      "35587              NaN                    NaN                      NaN  \n",
      "\n",
      "[3 rows x 21 columns]\n"
     ]
    }
   ],
   "source": [
    "print(invalid_rows)"
   ]
  },
  {
   "cell_type": "code",
   "execution_count": 28,
   "metadata": {},
   "outputs": [],
   "source": [
    "df1['budget'].fillna(0, inplace=True)"
   ]
  },
  {
   "attachments": {},
   "cell_type": "markdown",
   "metadata": {},
   "source": [
    "Eliminamos los campos nulos de la columna Release Date"
   ]
  },
  {
   "cell_type": "code",
   "execution_count": 29,
   "metadata": {},
   "outputs": [],
   "source": [
    "df1 = df1.dropna(subset=['release_date'])"
   ]
  },
  {
   "attachments": {},
   "cell_type": "markdown",
   "metadata": {},
   "source": [
    "Cambio el formato de fecha"
   ]
  },
  {
   "cell_type": "code",
   "execution_count": 30,
   "metadata": {},
   "outputs": [],
   "source": [
    "df1['release_date'] = pd.to_datetime(df1['release_date'],errors='coerce')"
   ]
  },
  {
   "attachments": {},
   "cell_type": "markdown",
   "metadata": {},
   "source": [
    "Creo la columna Release Year"
   ]
  },
  {
   "cell_type": "code",
   "execution_count": 31,
   "metadata": {},
   "outputs": [],
   "source": [
    "df1['release_year'] = df1['release_date'].dt.year\n",
    "df1['release_year'] = df1['release_year'].fillna(0).astype(int)\n"
   ]
  },
  {
   "attachments": {},
   "cell_type": "markdown",
   "metadata": {},
   "source": [
    "Creo la columna Return"
   ]
  },
  {
   "cell_type": "code",
   "execution_count": 32,
   "metadata": {},
   "outputs": [],
   "source": [
    "df1['return'] = df1.apply(lambda row: row['revenue'] / row['budget'] if row['revenue'] != 0 and row['budget'] != 0 else 0, axis=1)\n",
    "df1['return'] = df1['return'].round(2)"
   ]
  },
  {
   "cell_type": "markdown",
   "metadata": {},
   "source": [
    "Creo los dataframes que usare en las funciones"
   ]
  },
  {
   "cell_type": "code",
   "execution_count": 33,
   "metadata": {},
   "outputs": [],
   "source": [
    "df1[['id', 'original_language']].to_csv('idioma.csv', index=False)"
   ]
  },
  {
   "cell_type": "code",
   "execution_count": 34,
   "metadata": {},
   "outputs": [],
   "source": [
    "df1[['id', 'title','runtime','release_year']].to_csv('duracion.csv', index=False)"
   ]
  },
  {
   "cell_type": "code",
   "execution_count": 35,
   "metadata": {},
   "outputs": [],
   "source": [
    "df1[['id', 'name_collection','revenue']].to_csv('collection.csv', index=False)"
   ]
  },
  {
   "cell_type": "code",
   "execution_count": 36,
   "metadata": {},
   "outputs": [],
   "source": [
    "df1[['id','production_countries']].to_csv('country.csv', index=False)"
   ]
  },
  {
   "cell_type": "code",
   "execution_count": 37,
   "metadata": {},
   "outputs": [],
   "source": [
    "df1[['id','production_companies','revenue']].to_csv('production.csv', index=False)"
   ]
  },
  {
   "cell_type": "code",
   "execution_count": 40,
   "metadata": {},
   "outputs": [],
   "source": [
    "df3 = pd.DataFrame({\n",
    "    'id': df1['id'],\n",
    "    'director': df2['director'],\n",
    "    'actors': df2['actors'],\n",
    "    'return': df1['return'],\n",
    "    'budget' : df1['budget'],\n",
    "    'revenue': df1['revenue'],\n",
    "    'title': df1['title'],\n",
    "    'release_date':df1['release_date']\n",
    "})\n",
    "\n",
    "df3.to_csv('cast.csv', index=False)"
   ]
  },
  {
   "cell_type": "code",
   "execution_count": 45,
   "metadata": {},
   "outputs": [],
   "source": [
    "df_concated = pd.concat([df1, df2])"
   ]
  },
  {
   "cell_type": "code",
   "execution_count": 46,
   "metadata": {},
   "outputs": [],
   "source": [
    "df_concated.to_csv('datos.csv', index=False)"
   ]
  }
 ],
 "metadata": {
  "kernelspec": {
   "display_name": "Python 3",
   "language": "python",
   "name": "python3"
  },
  "language_info": {
   "codemirror_mode": {
    "name": "ipython",
    "version": 3
   },
   "file_extension": ".py",
   "mimetype": "text/x-python",
   "name": "python",
   "nbconvert_exporter": "python",
   "pygments_lexer": "ipython3",
   "version": "3.11.4"
  },
  "orig_nbformat": 4
 },
 "nbformat": 4,
 "nbformat_minor": 2
}
